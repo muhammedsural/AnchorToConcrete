{
 "cells": [
  {
   "cell_type": "markdown",
   "metadata": {},
   "source": [
    "# EXAMPLE 4.7-2 Base Connection for Concentric Axial Compression Load (Using Concrete Confinement)"
   ]
  },
  {
   "cell_type": "markdown",
   "metadata": {},
   "source": [
    "![alt text](Images\\Examp4_7_2-01.png)\n"
   ]
  },
  {
   "cell_type": "code",
   "execution_count": 1,
   "metadata": {},
   "outputs": [],
   "source": [
    "from AnchorToConcrete import *"
   ]
  },
  {
   "cell_type": "markdown",
   "metadata": {},
   "source": [
    "### VARIABLES"
   ]
  },
  {
   "cell_type": "code",
   "execution_count": 2,
   "metadata": {},
   "outputs": [],
   "source": [
    "inc  = 25.4 #mm\n",
    "psi  = 0.00689476 #N/mm^2\n",
    "kips = 4448.22 #N\n",
    "ksi  = 6.89476 #N/mm^2"
   ]
  },
  {
   "cell_type": "code",
   "execution_count": 3,
   "metadata": {},
   "outputs": [],
   "source": [
    "# CONCRETE\n",
    "f_c   = 3 * ksi\n",
    "Bcx  = 24 * inc\n",
    "Bcy  = 24 * inc\n",
    "\n",
    "# BASE PLATE ASTM A572/A572M Gr. 50\n",
    "Fpy = 50 * ksi\n",
    "Fpu = 65 * ksi\n",
    "\n",
    "# Column W12x96\n",
    "d = 12.7 * inc\n",
    "bf = 12.2 * inc\n",
    "\n",
    "#  # FORCES\n",
    "Pu = 700 * kips"
   ]
  },
  {
   "cell_type": "code",
   "execution_count": 7,
   "metadata": {},
   "outputs": [
    {
     "name": "stdout",
     "output_type": "stream",
     "text": [
      "A1_req=136233.00mm^2 - 211.16inc^2\n",
      "N=400mm - 15.75inc\n",
      "B=350mm - 13.78inc\n",
      "A1=140000.00mm^2 - 217.0inc^2\n"
     ]
    }
   ],
   "source": [
    "bp = BasePlate(P_u=Pu, M_u=0.0, V_u=0.0, f_c=f_c, d=d, b_f=bf, F_y=Fpy, Case=3)\n",
    "\n",
    "A1_req = bp.ApproximateBasePlateArea(P_u=bp.P_u, f_c=bp.f_c, Case=bp.Case)\n",
    "print(f\"{A1_req=:.2f}mm^2 - {round(A1_req/inc**2,2)}inc^2\")\n",
    "\n",
    "# Eşit plaka uzunlukları alınması üretim kolaylığı sağlar. B=N\n",
    "N = bp.FindPlateDimensions(d=bp.d, b_f=bp.b_f, A1_req=A1_req)\n",
    "print(f\"{N=}mm - {round(N/inc,2)}inc\")\n",
    "\n",
    "B = math.ceil(A1_req/N/10)*10\n",
    "print(f\"{B=}mm - {B/inc:.2f}inc\")\n",
    "\n",
    "A1 = B*N\n",
    "print(f\"{A1=:.2f}mm^2 - {round(A1/inc**2,2)}inc^2\")"
   ]
  },
  {
   "cell_type": "code",
   "execution_count": 5,
   "metadata": {},
   "outputs": [
    {
     "name": "stdout",
     "output_type": "stream",
     "text": [
      "Beton sargılama katkısı kullanılabilir.\n",
      "fpmax = 17.58MPa - (2.55ksi)\n",
      "Pp = 2394.98kN - (538.412kips)\n",
      "DesignPp = 1556.73kN - (349.968kips)\n",
      "m=46.77mm - 1.84inc\n",
      "n=46.34mm - 1.82inc\n",
      "X=2.0\n",
      "λ=1.0\n",
      "l=79.04155963795247mm - 3.11inc\n",
      "tmin=35mm - 1.38inc\n"
     ]
    }
   ],
   "source": [
    "fpmax = bp.f_pmax_Get(f_c=f_c, A1=A1, A2=A1)\n",
    "print(f\"fpmax = {fpmax}MPa - ({round(fpmax/ksi,2)}ksi)\")\n",
    "\n",
    "Pp    = bp.NominalBearingStrengthConc(f_pmax=fpmax , A1=A1, f_c=f_c)\n",
    "print(f\"Pp = {Pp/10**3:.2f}kN - ({round(Pp/kips,3)}kips)\")\n",
    "\n",
    "DesignPp    = bp.DesignBearingStrengthConc(Pp=Pp)\n",
    "print(f\"DesignPp = {DesignPp/10**3:.2f}kN - ({round(DesignPp/kips,3)}kips)\")\n",
    "\n",
    "m = bp.Get_m(N=N, d=d)\n",
    "print(f\"{m=}mm - {round(m/inc,2)}inc\")\n",
    "\n",
    "n = bp.Get_n(B=B, b_f=bf)\n",
    "print(f\"{n=}mm - {round(n/inc,2)}inc\")\n",
    "\n",
    "X = bp.Get_X(d=d, b_f=bf, P_u=Pu, P_p=DesignPp)\n",
    "print(f\"{X=}\")\n",
    "\n",
    "lamda = bp.Get_lambda(X=X)\n",
    "print(f\"λ={lamda}\")\n",
    "\n",
    "l = bp.Get_l(d=d, b_f=bf, m=m, n=n, lamb=lamda)\n",
    "print(f\"{l=}mm - {round(l/inc,2)}inc\")\n",
    "\n",
    "tmin = bp.BasePlateThickness(P_u=Pu, l=l, B=B, N=N, F_y=Fpy)\n",
    "print(f\"{tmin=}mm - {round(tmin/inc,2)}inc\")"
   ]
  }
 ],
 "metadata": {
  "kernelspec": {
   "display_name": "Python 3",
   "language": "python",
   "name": "python3"
  },
  "language_info": {
   "codemirror_mode": {
    "name": "ipython",
    "version": 3
   },
   "file_extension": ".py",
   "mimetype": "text/x-python",
   "name": "python",
   "nbconvert_exporter": "python",
   "pygments_lexer": "ipython3",
   "version": "3.12.9"
  }
 },
 "nbformat": 4,
 "nbformat_minor": 2
}
