{
 "cells": [
  {
   "cell_type": "code",
   "execution_count": 1,
   "metadata": {},
   "outputs": [
    {
     "name": "stderr",
     "output_type": "stream",
     "text": [
      "g:\\Drive'ım\\AnchorDesign\\AnchorToConcrete.py:959: SyntaxWarning: invalid escape sequence '\\ '\n",
      "  \"\"\"\n"
     ]
    }
   ],
   "source": [
    "from AnchorToConcrete import *"
   ]
  },
  {
   "cell_type": "markdown",
   "metadata": {},
   "source": [
    "# EXAMPLE 4.7-9— Base Connection for Bending"
   ]
  },
  {
   "cell_type": "markdown",
   "metadata": {},
   "source": [
    "An exposed base connection is designed in this example that considers a base subjected to only flexural forces producing compression\n",
    "at the toe of the base plate and tension in the anchor rods.\n",
    "\n",
    "### Given:\n",
    "A base connection of a W18×76 column has a moment from nonseismic forces as illustrated in Figure 4-31. Determine the\n",
    "anchorage and base plate requirements. The concrete compressive strength, ƒc′, is 4,000 psi, and there are no adjacent edges. The\n",
    "column is ASTM A992/A992M, and the plate is ASTM A572/A572M Grade 50 material.\n",
    "\n",
    "### Solution:\n",
    "From AISC Manual Tables 2-4 and 2-5, the material properties are as follows:\n",
    "\n",
    "#### Column\n",
    "ASTM A992/A992M\n",
    "Fy = 50 ksi\n",
    "Fu = 65 ksi\n",
    "\n",
    "#### Plate\n",
    "ASTM A572/A572M Grade 50\n",
    "Fy = 50 ksi\n",
    "Fu = 65 ksi\n",
    "From AISC Manual Table 1-1, the column properties are as follows:\n",
    "W18×76\n",
    "d = 18.2 in.\n",
    "bf = 11.0 in.\n",
    "tf = 0.680 in."
   ]
  },
  {
   "cell_type": "markdown",
   "metadata": {},
   "source": [
    "### VARIABLES"
   ]
  },
  {
   "cell_type": "code",
   "execution_count": 2,
   "metadata": {},
   "outputs": [],
   "source": [
    "inc  = 25.4 #mm\n",
    "psi  = 0.00689476 #N/mm^2\n",
    "kips = 4448.22 #N\n",
    "ksi  = 6.89476 #N/mm^2"
   ]
  },
  {
   "cell_type": "code",
   "execution_count": 3,
   "metadata": {},
   "outputs": [],
   "source": [
    "# CONCRETE\n",
    "f_c   = 4000 * psi\n",
    "\n",
    "# BASE PLATE\n",
    "Fpy = 50 * ksi\n",
    "Fpu = 65 * ksi\n",
    "\n",
    "# ANCHOR RODS\n",
    "Fay = 36 * ksi\n",
    "Fau = 58 * ksi\n",
    "d_a = 1.0 * inc\n",
    "Abrg  = 1.50 * inc**2   # Design Guide Table-4.2\n",
    "Ab    = 0.785 * inc**2  # Design Guide Table-4.2\n",
    "nt = 8                  # Design Guide Table-4.1 number of threads\n",
    "AseN = 0.606 * inc**2   # Design Guide Table-4.1\n",
    "h_ef  = 12* inc         # embedment depth rods\n",
    "n = 2                   # number of rods in tension\n",
    "\n",
    "# OTHER VARIABLES\n",
    "Anc_x  = 6 * inc    #Moment direction\n",
    "Anc_y  = 24  * inc\n",
    "Cax1   = 10000 * inc\n",
    "Cax2   = 10000 * inc\n",
    "Cay1   = 10000 * inc\n",
    "Cay2   = 10000 * inc\n",
    "e_N    = 0.0\n",
    "e_h   = 0.0 * inc\n",
    "\n",
    "\n",
    "fi_breakout  = 0.7   # Because no supplementary reinforcement was specified, ACI 318, Table 17.5.3(b)\n",
    "fi_pullout   = 0.7   # ACI 318, Table 17.5.3(c)\n",
    "fi_steelshear = 0.65 # ACI 318, Table 17.5.3(a)\n",
    "fi_pryoutshear = 0.7 # ACI 318, Table 17.5.3(c)\n",
    "fi_steeltension = 0.75 # ACI 318, Table 17.5.3(a),\n",
    "\n",
    "\n",
    " # FORCES\n",
    "Vu = 116 * kips\n",
    "Nu = 47 * kips\n",
    "# Standart delikler ve kesmede etkin olabilecek şekilde ankrajlar beton kenarına yakın olmadığından kesme kuvveti ankrajlar arasında eşit dağıldığı kabul edilir. Aynı şekilde çekme durumunda da bir eksantrisite olmadığı için çekme kuvvetlerinin ankrajlara eşit dağıldığı kabul edilir.\n",
    "\n",
    "# ACI318-19 17.5.1.3.1 ankraj aralığı 3*h_ef ten küçük olduğu için tüm ankrajlar grup olarak hareket edileceği düşünülüyor ve n=8 kabul ediliyor.\n",
    "Vua_i = Vu/n\n",
    "Nua_i = Nu/n"
   ]
  },
  {
   "cell_type": "markdown",
   "metadata": {},
   "source": [
    "### TENSION CHECKS"
   ]
  },
  {
   "cell_type": "markdown",
   "metadata": {},
   "source": [
    "#### AVAILABLE STEEL STRENGTH IN TENSION OF THE ANCHOR RODS"
   ]
  },
  {
   "cell_type": "code",
   "execution_count": 4,
   "metadata": {},
   "outputs": [
    {
     "name": "stdout",
     "output_type": "stream",
     "text": [
      "Nsa = 156.346155kN - (35.148kips)\n",
      "fi_d*Nsa = 117.26kN - (26.361kips)\n",
      "Is single anchor rods in tension capacity enough? ==> True - 104.533kN < 117.26kN - (23.5kips < 26.361kips)\n"
     ]
    }
   ],
   "source": [
    "Nsa = NominalSteelStrengthOfAnchorInTension(A_se=AseN, f_ya=Fay, f_uta=Fau)\n",
    "print(f\"Nsa = {Nsa/10**3}kN - ({round(Nsa/4448.22,3)}kips)\")\n",
    "\n",
    "Design_Nsa = fi_steeltension * Nsa\n",
    "print(f\"fi_d*Nsa = {round(Design_Nsa/10**3,3)}kN - ({round(Design_Nsa/4448.2,3)}kips)\"),\n",
    "print(f\"Is single anchor rods in tension capacity enough? ==> {Nua_i < Design_Nsa} - {round(Nua_i/1000,3)}kN < {round(Design_Nsa/1000,3)}kN - ({round(Nua_i/4448.2,3)}kips < {round(Design_Nsa/4448.2,3)}kips)\")"
   ]
  },
  {
   "cell_type": "markdown",
   "metadata": {},
   "source": [
    "#### CONCRETE BREAKOUT STRENGTH IN TENSION"
   ]
  },
  {
   "cell_type": "code",
   "execution_count": 5,
   "metadata": {},
   "outputs": [
    {
     "name": "stdout",
     "output_type": "stream",
     "text": [
      "h_ef = 0.305m - (12.0in)\n"
     ]
    }
   ],
   "source": [
    "h_ef = h_ef_Check(h_ef,Cax1,Cax2,Cay1,Cay2,Anc_x,Anc_y)\n",
    "print(f\"h_ef = {round(h_ef/10**3,3)}m - ({round(h_ef/(25.4),3)}in)\")"
   ]
  },
  {
   "cell_type": "code",
   "execution_count": 6,
   "metadata": {},
   "outputs": [
    {
     "name": "stdout",
     "output_type": "stream",
     "text": [
      "ANc = 0.975m2 - (1512.0in^2)\n"
     ]
    }
   ],
   "source": [
    "ANc = A_Nc(Anc_x, Anc_y, h_ef, Cax1, Cax2, Cay1, Cay2, n, TensionRegion=1)\n",
    "print(f\"ANc = {round(ANc/10**6,3)}m2 - ({round(ANc/25.4**2,3)}in^2)\")"
   ]
  },
  {
   "cell_type": "code",
   "execution_count": 7,
   "metadata": {},
   "outputs": [
    {
     "name": "stdout",
     "output_type": "stream",
     "text": [
      "ANco = 0.836m2 - (1296.0in^2)\n"
     ]
    }
   ],
   "source": [
    "ANco = A_Nco(h_ef)\n",
    "print(f\"ANco = {round(ANco/10**6,3)}m2 - ({round(ANco/25.4**2,3)}in^2)\")"
   ]
  },
  {
   "cell_type": "code",
   "execution_count": 8,
   "metadata": {},
   "outputs": [
    {
     "name": "stdout",
     "output_type": "stream",
     "text": [
      "Nb = 282.735kN - (63.561kips)\n",
      "psi_ecN = 1.0\n",
      "psi_edN = 1.0\n",
      "psi_cN = 1.0\n",
      "psi_cpN = 1.0\n",
      "Ncbg = 329.857kN - (74.155kips)\n",
      "fi_d*Ncbg = 230.9kN - (51.909kips)\n",
      "Is concrete breakout strength in tension capacity enough? ==> True - 209.066kN < 230.9kN - (47.0kips < 51.909kips)\n"
     ]
    }
   ],
   "source": [
    "BreakoutTension = ConcreteBreakoutStrengthOfAnchorInTension()\n",
    "    \n",
    "Nb = BreakoutTension.BasicSingleAnchorBreakoutStrength(kc=16, lambda_a=1, f_c=f_c, h_ef=h_ef)\n",
    "print(f\"Nb = {round(Nb/10**3,3)}kN - ({round(Nb/4448.22,3)}kips)\")\n",
    "\n",
    "psi_ecN = BreakoutTension.Psi_ecN_Get(eN=e_N, h_ef=h_ef)\n",
    "print(f\"psi_ecN = {psi_ecN}\")\n",
    "\n",
    "psi_edN = BreakoutTension.Psi_edN_Get(Ca_min=Cax1, h_ef=h_ef)\n",
    "print(f\"psi_edN = {psi_edN}\")\n",
    "\n",
    "psi_cN = BreakoutTension.Psi_cN_Get(InstalledType=CastInAnchorType.HexHeadBoltWithWasher, IsConcCracked = None)\n",
    "print(f\"psi_cN = {psi_cN}\")\n",
    "\n",
    "psi_cpN = BreakoutTension.Psi_cpN_Get(Cac=Cax1 , Ca_min=Cax1 , h_ef=h_ef, InstalledType=CastInAnchorType.HexHeadBoltWithWasher)\n",
    "print(f\"psi_cpN = {psi_cpN}\")\n",
    "\n",
    "Ncbg = BreakoutTension.ForGroupAnchor(A_Nc=ANc, A_Nco=ANco, Psi_ecN=psi_ecN, Psi_edN=psi_edN, Psi_cN=psi_cN,Psi_cpN=psi_cpN, Nb=Nb)\n",
    "print(f\"Ncbg = {round(Ncbg/10**3,3)}kN - ({round(Ncbg/4448.2,3)}kips)\")\n",
    "\n",
    "Design_Ncbg = fi_breakout * Ncbg\n",
    "print(f\"fi_d*Ncbg = {round(Design_Ncbg/10**3,3)}kN - ({round(Design_Ncbg/4448.2,3)}kips)\")\n",
    "\n",
    "print(f\"Is concrete breakout strength in tension capacity enough? ==> {Nu < Design_Ncbg} - {round(Nu/1000,3)}kN < {round(Design_Ncbg/1000,3)}kN - ({round(Nu/4448.2,3)}kips < {round(Design_Ncbg/4448.2,3)}kips)\")"
   ]
  },
  {
   "cell_type": "markdown",
   "metadata": {},
   "source": [
    "#### CONCRETE PULLOUT STRENGTH IN TENSION"
   ]
  },
  {
   "cell_type": "code",
   "execution_count": 9,
   "metadata": {},
   "outputs": [
    {
     "name": "stdout",
     "output_type": "stream",
     "text": [
      "psi_cp = 1.0\n",
      "Np = 213.515kN - (48.0kips)\n",
      "Npn = 213.515kN - (48.0kips)\n",
      "fi_d*Ncbg = 149.46kN - (33.6kips)\n",
      "Is concrete pullout strength in tension capacity enough? ==> True - 104.53317000000001kN < 149.46030469999997kN - (23.5kips < 33.6kips)\n"
     ]
    }
   ],
   "source": [
    "PulloutTension = PulloutStrengthInTension()\n",
    "    \n",
    "psi_cp = PulloutTension.Psi_cP_Get(IsConcCracked=None)\n",
    "print(f\"psi_cp = {psi_cp}\")\n",
    "    \n",
    "Np     = PulloutTension.BasicSingleAnchorPulloutStrength(A_brg=Abrg, \n",
    "                                                             f_c=f_c, \n",
    "                                                             e_h=e_h, \n",
    "                                                             d_a=d_a, \n",
    "                                                             AnchorType= CastInAnchorType.HexHeadBoltWithWasher)\n",
    "print(f\"Np = {round(Np/10**3,3)}kN - ({round(Np/4448.2,3)}kips)\")\n",
    "    \n",
    "Npn = PulloutTension.SingleAnchorNominalPulloutStrength(Psi_cP=psi_cp, Np=Np)\n",
    "print(f\"Npn = {round(Npn/10**3,3)}kN - ({round(Npn/4448.2,3)}kips)\")\n",
    "\n",
    "Design_Npn = fi_pullout * Npn\n",
    "print(f\"fi_d*Ncbg = {round(Design_Npn/10**3,3)}kN - ({round(Design_Npn/4448.2,3)}kips)\")\n",
    "\n",
    "print(f\"Is concrete pullout strength in tension capacity enough? ==> {Nua_i < Design_Npn} - {Nua_i/1000}kN < {Design_Npn/1000}kN - ({round(Nua_i/4448.2,3)}kips < {round(Design_Npn/4448.2,3)}kips)\")\n"
   ]
  },
  {
   "cell_type": "markdown",
   "metadata": {},
   "source": [
    "#### CONCRETE SIDE-FACE BLOWOUT STRENGTH IN TENSION"
   ]
  },
  {
   "cell_type": "markdown",
   "metadata": {},
   "source": [
    "Because hef ≤ 2.5ca1, side-face blowout is not applicable."
   ]
  },
  {
   "cell_type": "code",
   "execution_count": 10,
   "metadata": {},
   "outputs": [
    {
     "data": {
      "text/plain": [
       "7.000000000000001e+49"
      ]
     },
     "execution_count": 10,
     "metadata": {},
     "output_type": "execute_result"
    }
   ],
   "source": [
    "sideFaceBlowout = ConcreteSideFaceBlowoutStrengthOfHeadedAnchorInTension()\n",
    "Nsb = sideFaceBlowout.SingleHeadedAnchorSideFaceBlowoutStrength(h_ef=h_ef, C_a1=Cax1, C_a2=Cax2,A_brg=Abrg, lambda_a=1.0, f_c=f_c)\n",
    "Nsbg = sideFaceBlowout.MultipleHeadedAnchorSideFaceBlowoutStrength(s= Anc_x, h_ef=h_ef, C_a1=Cax1, N_sb=Nsb)\n",
    "fi_sideway = Table1753b(SupReinforcement=False, AncTypeInstall=True, WhichEffect=0, AnchorCategory=None)\n",
    "Design_Nsbg = fi_sideway*Nsbg\n",
    "Design_Nsbg"
   ]
  },
  {
   "cell_type": "markdown",
   "metadata": {},
   "source": [
    "### SHEAR CHECKS"
   ]
  },
  {
   "cell_type": "markdown",
   "metadata": {},
   "source": [
    "#### AVAILABLE STEEL STRENGTH IN SHEAR"
   ]
  },
  {
   "cell_type": "code",
   "execution_count": 11,
   "metadata": {},
   "outputs": [
    {
     "name": "stdout",
     "output_type": "stream",
     "text": [
      "A_seV = 501.61mm2 - (0.777in^2)\n",
      "Vsa = 174.612kN - (39.255kips)\n",
      "fi*Vsa = 113.498kN - (25.515kips)\n",
      "Is available steel strength in shear capacity enough? ==> False - 257.99676kN < 113.49802035kN - (58.0kips < 25.515kips)\n"
     ]
    }
   ],
   "source": [
    "steelStrengthShear = SteelStrengthOfAnchorInShear()\n",
    "    \n",
    "Asev = steelStrengthShear.A_seV(d_a=d_a, n_t=nt)\n",
    "print(f\"A_seV = {round(Asev,3)}mm2 - ({round(Asev/25.4**2,3)}in^2)\")\n",
    "\n",
    "# Design guide örneğinde efektif ankrajın çekme alanı alınmış(DG01-Table-4.1 A_seN) ACI da önerilen formül nominal alana yakın sonuç veriyor.(ACI318-19 - R17.7.1.2)\n",
    "Vsa = steelStrengthShear.NominalSteelStrengthCastInHeadedAndHookedBoltAnchorInShear(A_seV=1.41*25.4**2, f_ya=Fay, f_uta= Fau)\n",
    "print(f\"Vsa = {round(Vsa/10**3,3)}kN - ({round(Vsa/4448.2,3)}kips)\")\n",
    "\n",
    "Design_Vsa = fi_steelshear * Vsa\n",
    "print(f\"fi*Vsa = {round(Design_Vsa/10**3,3)}kN - ({round(Design_Vsa/4448.2,3)}kips)\")\n",
    "    \n",
    "print(f\"Is available steel strength in shear capacity enough? ==> {Vua_i < Design_Vsa} - {Vua_i/1000}kN < {Design_Vsa/1000}kN - ({round(Vua_i/4448.2,3)}kips < {round(Design_Vsa/4448.2,3)}kips)\")"
   ]
  },
  {
   "cell_type": "markdown",
   "metadata": {},
   "source": [
    "#### CONCRETE BREAKOUT STRENGTH IN SHEAR"
   ]
  },
  {
   "cell_type": "code",
   "execution_count": 22,
   "metadata": {},
   "outputs": [
    {
     "name": "stdout",
     "output_type": "stream",
     "text": [
      "Because there are no edges adjacent to the base connection, the available concrete breakout strength in shear is not applicable.\n",
      "Ca1=169333.33 ; Avco=129031999492.00 ; Avc=129070709091.92\n",
      "le=203.20 ; Vb=3293409749.92 ; Psi_ecV=1.00 ; Psi_edV=0.90 ; Psi_cV=1.00 ; Psi_hV=1.00 ; Vcbg=2967329961.96 ; \n"
     ]
    }
   ],
   "source": [
    "BreakoutShear = ConcreteBreakoutStrengthOfAnchorInShear()\n",
    "print(\"Because there are no edges adjacent to the base connection, the available concrete breakout strength in shear is not applicable.\")\n",
    "ShearDirection=1 ; IsWeldCommonPlate=False ; ha = 10000*25.4\n",
    "ConcCrack = False; Reinforcement = False; ReinforcementBarNo = 0; StirrupsSpaced = 0.; eV = 0.0 ; t_attachment=13\n",
    "\n",
    "Ca1  = BreakoutShear.Get_Ca1(Anc_x = Anc_x, \n",
    "                             Anc_y = Anc_y, \n",
    "                             ha = ha, \n",
    "                             Ca_x1=Cax1, \n",
    "                             Ca_x2=Cax2, \n",
    "                             Ca_y1=Cay1, \n",
    "                             Ca_y2=Cay2, \n",
    "                             ShearDirection=ShearDirection, \n",
    "                             IsWeldCommonPlate=IsWeldCommonPlate)\n",
    "Ca2 = Anc_y+Ca1\n",
    "Avco = BreakoutShear.A_Vco(C_a1=Ca1)\n",
    "Avc  = BreakoutShear.A_Vc(Anc_x = Anc_x, Anc_y = Anc_y, ha = ha, Ca_x1=Cax1, Ca_x2=Cax2, Ca_y1=Cay1, Ca_y2=Cay2, ShearDirection=ShearDirection, IsWeldCommonPlate=IsWeldCommonPlate)\n",
    "print(f\"{Ca1=:.2f} ; {Avco=:.2f} ; {Avc=:.2f}\")\n",
    "le = BreakoutShear.Get_le(AnchorType = CastInAnchorType.HexHeadBoltWithWasher, h_ef =h_ef, d_a=d_a)\n",
    "Vb = BreakoutShear.V_b(AnchorType=CastInAnchorType.HexHeadBoltWithWasher, l_e=le, d_a=d_a, f_c=f_c, Ca1=Ca1, t_attachment=t_attachment, s_min=Anc_x, Ca2=Anc_y, h_ef=h_ef)\n",
    "Psi_ecV = BreakoutShear.Psi_ecV(eV = eV , Ca1 = Ca1)\n",
    "Psi_edV = BreakoutShear.Psi_edV(Ca1 = Ca1, Ca2 = Ca2)\n",
    "Psi_cV  = BreakoutShear.Psi_cV(ConcCrack = ConcCrack, Reinforcement = Reinforcement, ReinforcementBarNo = ReinforcementBarNo, StirrupsSpaced = StirrupsSpaced)\n",
    "Psi_hV  = BreakoutShear.Psi_hV(Ca1 = Ca1, h_a = ha)\n",
    "Vcbg = BreakoutShear.ForGroupAnchor(A_Vc=Avc, A_Vco=Avco, Psi_ecV=Psi_ecV, Psi_edV=Psi_edV, Psi_cV=Psi_cV, Psi_hV=Psi_hV, V_b=Vb)\n",
    "print(f\"{le=:.2f} ; {Vb=:.2f} ; {Psi_ecV=:.2f} ; {Psi_edV=:.2f} ; {Psi_cV=:.2f} ; {Psi_hV=:.2f} ; {Vcbg=:.2f} ; \")"
   ]
  },
  {
   "cell_type": "markdown",
   "metadata": {},
   "source": [
    "#### CONCRETE PRYOUT STRENGTH IN SHEAR"
   ]
  },
  {
   "cell_type": "code",
   "execution_count": 13,
   "metadata": {},
   "outputs": [
    {
     "name": "stdout",
     "output_type": "stream",
     "text": [
      "Vcpg = 659.714kN - (148.31kips)\n",
      "fi*Vsa = 461.8kN - (103.817kips)\n",
      "Is available pryout strength in shear capacity enough? ==> False - 515.99352kN < 461.80001559999994kN - (116.001kips < 103.817kips)\n"
     ]
    }
   ],
   "source": [
    "PryShear = ConcretePryoutStrengthOfAnchorInShear()\n",
    "\n",
    "Ncpg = Ncbg\n",
    "    \n",
    "Vcpg = PryShear.GroupAnchorConcPryoutStrengthInShear(h_ef=h_ef, N_cpg=Ncpg)\n",
    "print(f\"Vcpg = {round(Vcpg/10**3,3)}kN - ({round(Vcpg/4448.2,3)}kips)\")\n",
    "\n",
    "Design_Vcpg = fi_pryoutshear * Vcpg\n",
    "print(f\"fi*Vsa = {round(Design_Vcpg/10**3,3)}kN - ({round(Design_Vcpg/4448.2,3)}kips)\")\n",
    "    \n",
    "print(f\"Is available pryout strength in shear capacity enough? ==> {Vu < Design_Vcpg} - {Vu/1000}kN < {Design_Vcpg/1000}kN - ({round(Vu/4448.2,3)}kips < {round(Design_Vcpg/4448.2,3)}kips)\")"
   ]
  },
  {
   "cell_type": "markdown",
   "metadata": {},
   "source": [
    "### TENSION-SHEAR INTERACTION"
   ]
  },
  {
   "cell_type": "code",
   "execution_count": 14,
   "metadata": {},
   "outputs": [
    {
     "data": {
      "text/plain": [
       "1.812"
      ]
     },
     "execution_count": 14,
     "metadata": {},
     "output_type": "execute_result"
    }
   ],
   "source": [
    "DesignNn = min(Design_Npn,Design_Nsa,Design_Ncbg,Design_Nsbg)\n",
    "DesignVn = min(Design_Vsa,Design_Vcpg)\n",
    "ratioTS = TensionShearInteractionStrength(Nua_i, Vua_i, DesignNn, DesignVn)\n",
    "ratioTS"
   ]
  },
  {
   "cell_type": "markdown",
   "metadata": {},
   "source": [
    "### RESULTS"
   ]
  },
  {
   "cell_type": "code",
   "execution_count": 15,
   "metadata": {},
   "outputs": [],
   "source": [
    "from pandas import DataFrame"
   ]
  },
  {
   "cell_type": "code",
   "execution_count": 25,
   "metadata": {},
   "outputs": [
    {
     "data": {
      "text/html": [
       "<div>\n",
       "<style scoped>\n",
       "    .dataframe tbody tr th:only-of-type {\n",
       "        vertical-align: middle;\n",
       "    }\n",
       "\n",
       "    .dataframe tbody tr th {\n",
       "        vertical-align: top;\n",
       "    }\n",
       "\n",
       "    .dataframe thead th {\n",
       "        text-align: right;\n",
       "    }\n",
       "</style>\n",
       "<table border=\"1\" class=\"dataframe\">\n",
       "  <thead>\n",
       "    <tr style=\"text-align: right;\">\n",
       "      <th></th>\n",
       "      <th>Limit_State</th>\n",
       "      <th>Design_Capacity(kN)</th>\n",
       "      <th>Demand(kN)</th>\n",
       "      <th>Checks</th>\n",
       "    </tr>\n",
       "  </thead>\n",
       "  <tbody>\n",
       "    <tr>\n",
       "      <th>0</th>\n",
       "      <td>Steel Failure in Tension</td>\n",
       "      <td>1.172600e+02</td>\n",
       "      <td>104.53317</td>\n",
       "      <td>Ok</td>\n",
       "    </tr>\n",
       "    <tr>\n",
       "      <th>1</th>\n",
       "      <td>Concrete Breakout in Tension</td>\n",
       "      <td>2.309000e+02</td>\n",
       "      <td>209.06634</td>\n",
       "      <td>Ok</td>\n",
       "    </tr>\n",
       "    <tr>\n",
       "      <th>2</th>\n",
       "      <td>Concrete Pullout in Tension</td>\n",
       "      <td>1.494600e+02</td>\n",
       "      <td>104.53317</td>\n",
       "      <td>Ok</td>\n",
       "    </tr>\n",
       "    <tr>\n",
       "      <th>3</th>\n",
       "      <td>Concrete Side-Face Blowout in Tension</td>\n",
       "      <td>7.000000e+46</td>\n",
       "      <td>0.00000</td>\n",
       "      <td>Ok</td>\n",
       "    </tr>\n",
       "    <tr>\n",
       "      <th>4</th>\n",
       "      <td>Concrete Splitting in Tension</td>\n",
       "      <td>0.000000e+00</td>\n",
       "      <td>0.00000</td>\n",
       "      <td>Ok</td>\n",
       "    </tr>\n",
       "    <tr>\n",
       "      <th>5</th>\n",
       "      <td>Concrete Bond Failure in Tension</td>\n",
       "      <td>0.000000e+00</td>\n",
       "      <td>0.00000</td>\n",
       "      <td>Ok</td>\n",
       "    </tr>\n",
       "    <tr>\n",
       "      <th>6</th>\n",
       "      <td>Steel Failure in shear</td>\n",
       "      <td>1.134980e+02</td>\n",
       "      <td>257.99676</td>\n",
       "      <td>x</td>\n",
       "    </tr>\n",
       "    <tr>\n",
       "      <th>7</th>\n",
       "      <td>Concrete Pryout in shear</td>\n",
       "      <td>4.618000e+02</td>\n",
       "      <td>515.99352</td>\n",
       "      <td>x</td>\n",
       "    </tr>\n",
       "    <tr>\n",
       "      <th>8</th>\n",
       "      <td>Concrete Breakout in shear</td>\n",
       "      <td>0.000000e+00</td>\n",
       "      <td>0.00000</td>\n",
       "      <td>Ok</td>\n",
       "    </tr>\n",
       "    <tr>\n",
       "      <th>9</th>\n",
       "      <td>Tension-Shear Interaction</td>\n",
       "      <td>1.812000e+00</td>\n",
       "      <td>1.20000</td>\n",
       "      <td>Ok</td>\n",
       "    </tr>\n",
       "  </tbody>\n",
       "</table>\n",
       "</div>"
      ],
      "text/plain": [
       "                             Limit_State  Design_Capacity(kN)  Demand(kN)  \\\n",
       "0               Steel Failure in Tension         1.172600e+02   104.53317   \n",
       "1           Concrete Breakout in Tension         2.309000e+02   209.06634   \n",
       "2            Concrete Pullout in Tension         1.494600e+02   104.53317   \n",
       "3  Concrete Side-Face Blowout in Tension         7.000000e+46     0.00000   \n",
       "4          Concrete Splitting in Tension         0.000000e+00     0.00000   \n",
       "5       Concrete Bond Failure in Tension         0.000000e+00     0.00000   \n",
       "6                 Steel Failure in shear         1.134980e+02   257.99676   \n",
       "7               Concrete Pryout in shear         4.618000e+02   515.99352   \n",
       "8             Concrete Breakout in shear         0.000000e+00     0.00000   \n",
       "9              Tension-Shear Interaction         1.812000e+00     1.20000   \n",
       "\n",
       "  Checks  \n",
       "0     Ok  \n",
       "1     Ok  \n",
       "2     Ok  \n",
       "3     Ok  \n",
       "4     Ok  \n",
       "5     Ok  \n",
       "6      x  \n",
       "7      x  \n",
       "8     Ok  \n",
       "9     Ok  "
      ]
     },
     "execution_count": 25,
     "metadata": {},
     "output_type": "execute_result"
    }
   ],
   "source": [
    "limitState = [\"Steel Failure in Tension\",\n",
    "              \"Concrete Breakout in Tension\",\n",
    "              \"Concrete Pullout in Tension\",\n",
    "              \"Concrete Side-Face Blowout in Tension\",\n",
    "              \"Concrete Splitting in Tension\",\n",
    "              \"Concrete Bond Failure in Tension\",\n",
    "              \"Steel Failure in shear\",          \n",
    "              \"Concrete Pryout in shear\",        \n",
    "              \"Concrete Breakout in shear\",      \n",
    "              \"Tension-Shear Interaction\"]\n",
    "DCapacity = [   round(Design_Nsa/1000 ,3),\n",
    "                round(Design_Ncbg/1000,3),\n",
    "                round(Design_Npn/1000 ,3),\n",
    "                round(Design_Nsbg/1000,3),\n",
    "                0,\n",
    "                0,\n",
    "                round(Design_Vsa/1000 ,3),\n",
    "                round(Design_Vcpg/1000,3),\n",
    "                0,\n",
    "                ratioTS]\n",
    "Demands = [ Nua_i/10**3  , \n",
    "            Nu/1000      , \n",
    "            Nua_i/1000   , \n",
    "            0            ,  \n",
    "            0            ,  \n",
    "            0            ,  \n",
    "            Vua_i/1000   , \n",
    "            Vu/1000      , \n",
    "            0            ,  \n",
    "            1.2          ]\n",
    "\n",
    "Checks = []\n",
    "for C,D in zip(DCapacity,Demands):\n",
    "    if C<D:\n",
    "        Checks.append(\"x\")\n",
    "    else:\n",
    "        Checks.append(\"Ok\")\n",
    "dct = {\"Limit_State\" : limitState, \"Design_Capacity(kN)\" : DCapacity, \"Demand(kN)\" : Demands, \"Checks\" : Checks}\n",
    "df = DataFrame(dct)\n",
    "df\n"
   ]
  },
  {
   "cell_type": "markdown",
   "metadata": {},
   "source": [
    "| State                                 | Design Capacity | Demand\n",
    "| -----------                           | -----------     | -----------     |\n",
    "| Steel Failure in Tension              | Text            | Title           |\n",
    "| Concrete Pullout in Tension           | Text            | Title           |\n",
    "| Concrete Breakout in Tension          | Text            | Title           |\n",
    "| Concrete Splitting in Tension         | Text            | Title           |\n",
    "| Concrete Side-Face Blowout in Tension | Text            | Title           |\n",
    "| Concrete Bond Failure in Tension      | Text            | Title           |\n",
    "| Steel Failure in shear                | Text            | Title           |\n",
    "| Concrete Pryout in shear              | Text            | Title           |\n",
    "| Concrete Breakout in shear            | Text            | Title           |\n",
    "| Tension-Shear Interaction             | Text            | Title           |"
   ]
  },
  {
   "cell_type": "code",
   "execution_count": null,
   "metadata": {},
   "outputs": [],
   "source": []
  }
 ],
 "metadata": {
  "kernelspec": {
   "display_name": "Python 3",
   "language": "python",
   "name": "python3"
  },
  "language_info": {
   "codemirror_mode": {
    "name": "ipython",
    "version": 3
   },
   "file_extension": ".py",
   "mimetype": "text/x-python",
   "name": "python",
   "nbconvert_exporter": "python",
   "pygments_lexer": "ipython3",
   "version": "3.12.8"
  }
 },
 "nbformat": 4,
 "nbformat_minor": 2
}
