{
 "cells": [
  {
   "cell_type": "markdown",
   "metadata": {},
   "source": [
    "# EXAMPLE 4.7-3— Base Connection for Concentric Axial Tension Load"
   ]
  },
  {
   "cell_type": "markdown",
   "metadata": {},
   "source": [
    "![alt text](Images\\Examp4_7_3-01.png)\n"
   ]
  },
  {
   "cell_type": "code",
   "execution_count": 1,
   "metadata": {},
   "outputs": [],
   "source": [
    "from AnchorToConcrete import *"
   ]
  },
  {
   "cell_type": "markdown",
   "metadata": {},
   "source": [
    "### VARIABLES"
   ]
  },
  {
   "cell_type": "code",
   "execution_count": 2,
   "metadata": {},
   "outputs": [],
   "source": [
    "inc  = 25.4 #mm\n",
    "psi  = 0.00689476 #N/mm^2\n",
    "kips = 4448.22 #N\n",
    "ksi  = 6.89476 #N/mm^2"
   ]
  },
  {
   "cell_type": "code",
   "execution_count": 12,
   "metadata": {},
   "outputs": [],
   "source": [
    "# CONCRETE\n",
    "f_c  = 4000 * psi\n",
    "Bcx  = 24 * inc\n",
    "Bcy  = 24 * inc\n",
    "\n",
    "# BASE PLATE ASTM A572/A572M Gr. 50\n",
    "Fpy = 50 * ksi\n",
    "Fpu = 65 * ksi\n",
    "\n",
    "# COLUMN W10x45\n",
    "Fycol = 50 * ksi\n",
    "Fucol = 65 * ksi\n",
    "d  = 10.1 * inc\n",
    "bf = 8.02 * inc\n",
    "tw = 0.350 * inc\n",
    "\n",
    "# ANCHOR RODS\n",
    "# ASTM F1554 Grade 36\n",
    "Fyrod = 36 * ksi\n",
    "Furod = 58 * ksi\n",
    "AseN = 0.462 * inc**2   # Design Guide Table-4.1\n",
    "\n",
    "#  # FORCES LRFD\n",
    "Pu = 70 * kips"
   ]
  },
  {
   "cell_type": "code",
   "execution_count": 16,
   "metadata": {},
   "outputs": [
    {
     "name": "stdout",
     "output_type": "stream",
     "text": [
      "ru=77843.850000\n",
      "Rn=119194.593197\n",
      "Is available tensile strength of each rod enough? ==> True - 77.844kN < 89.396kN - (17.5kips < 20.097kips)\n"
     ]
    }
   ],
   "source": [
    "# Per OSHA requirements, a minimum of four anchor rods are required. Determine the tension per anchor rod considering that the anchor rod group is concentric with the applied uplift load such that the tension load is equally distributed to all anchor rods.\n",
    "ru = Pu/4\n",
    "print(f\"{ru=:2f}\")\n",
    "Rn = Furod * AseN\n",
    "print(f\"{Rn=:2f}\")\n",
    "DesignRn = 0.75 * Rn\n",
    "print(f\"Is available tensile strength of each rod enough? ==> {ru < DesignRn} - {round(ru/1000,3)}kN < {round(DesignRn/1000,3)}kN - ({round(ru/4448.2,3)}kips < {round(DesignRn/4448.2,3)}kips)\")"
   ]
  },
  {
   "cell_type": "code",
   "execution_count": 6,
   "metadata": {},
   "outputs": [
    {
     "name": "stdout",
     "output_type": "stream",
     "text": [
      "A1_req=136233.00mm^2 - 211.16inc^2\n",
      "N=400mm - 15.75inc\n",
      "B=350mm - 13.78inc\n",
      "A1=140000.00mm^2 - 217.0inc^2\n",
      "A2=340645mm - 528.00inc\n"
     ]
    }
   ],
   "source": [
    "bp = BasePlate(P_u=Pu, M_u=0.0, V_u=0.0, f_c=f_c, d=d, b_f=bf, F_y=Fpy, Case=3)\n",
    "\n",
    "A1_req = bp.ApproximateBasePlateArea(P_u=bp.P_u, f_c=bp.f_c, Case=bp.Case)\n",
    "print(f\"{A1_req=:.2f}mm^2 - {round(A1_req/inc**2,2)}inc^2\")\n",
    "\n",
    "# Eşit plaka uzunlukları alınması üretim ve uygulama kolaylığı sağlar. B=N\n",
    "N = bp.FindPlateDimensions(d=bp.d, b_f=bp.b_f, A1_req=A1_req)\n",
    "print(f\"{N=}mm - {round(N/inc,2)}inc\")\n",
    "\n",
    "B = math.ceil(A1_req/N/10)*10\n",
    "print(f\"{B=}mm - {B/inc:.2f}inc\")\n",
    "\n",
    "A1 = B*N\n",
    "print(f\"{A1=:.2f}mm^2 - {round(A1/inc**2,2)}inc^2\")\n",
    "\n",
    "N2 = 24*inc\n",
    "B2 = 22*inc\n",
    "\n",
    "A2 = math.ceil(N2*B2)\n",
    "print(f\"{A2=}mm - {A2/inc**2:.2f}inc\")\n",
    "\n",
    "N,B = 20*inc,18*inc\n",
    "A1 = N*B"
   ]
  },
  {
   "cell_type": "code",
   "execution_count": 7,
   "metadata": {},
   "outputs": [
    {
     "name": "stdout",
     "output_type": "stream",
     "text": [
      "Beton sargılama katkısı kullanılabilir.\n",
      "fpmax = 21.29MPa - (3.09ksi)\n",
      "Pp = 4944.76kN - (1111.628kips)\n",
      "DesignPp = 3214.10kN - (722.558kips)\n",
      "m=100.77mm - 3.97inc\n",
      "n=104.65mm - 4.12inc\n",
      "X=0.97\n",
      "λ=1.0\n",
      "l=104.65mm - 4.12inc\n",
      "tmin=31mm - 1.22inc\n"
     ]
    }
   ],
   "source": [
    "fpmax = bp.f_pmax_Get(f_c=f_c, A1=A1, A2=A2)\n",
    "print(f\"fpmax = {fpmax}MPa - ({round(fpmax/ksi,2)}ksi)\")\n",
    "\n",
    "Pp    = bp.NominalBearingStrengthConc(f_pmax=fpmax , A1=A1, f_c=f_c)\n",
    "print(f\"Pp = {Pp/10**3:.2f}kN - ({round(Pp/kips,3)}kips)\")\n",
    "\n",
    "DesignPp    = bp.DesignBearingStrengthConc(Pp=Pp)\n",
    "print(f\"DesignPp = {DesignPp/10**3:.2f}kN - ({round(DesignPp/kips,3)}kips)\")\n",
    "\n",
    "m = bp.Get_m(N=N, d=d)\n",
    "print(f\"{m=}mm - {round(m/inc,2)}inc\")\n",
    "\n",
    "n = bp.Get_n(B=B, b_f=bf)\n",
    "print(f\"{n=}mm - {round(n/inc,2)}inc\")\n",
    "\n",
    "X = bp.Get_X(d=d, b_f=bf, P_u=Pu, P_p=DesignPp)\n",
    "print(f\"{X=}\")\n",
    "\n",
    "lamda = bp.Get_lambda(X=X)\n",
    "print(f\"λ={lamda}\")\n",
    "\n",
    "l = bp.Get_l(d=d, b_f=bf, m=m, n=n, lamb=lamda)\n",
    "print(f\"{l=}mm - {round(l/inc,2)}inc\")\n",
    "\n",
    "tmin = bp.BasePlateThickness(P_u=Pu, l=l, B=B, N=N, F_y=Fpy, fi=0.9, Multiples=1)\n",
    "print(f\"{tmin=}mm - {round(tmin/inc,2)}inc\")"
   ]
  },
  {
   "cell_type": "code",
   "execution_count": null,
   "metadata": {},
   "outputs": [],
   "source": []
  }
 ],
 "metadata": {
  "kernelspec": {
   "display_name": "Python 3",
   "language": "python",
   "name": "python3"
  },
  "language_info": {
   "codemirror_mode": {
    "name": "ipython",
    "version": 3
   },
   "file_extension": ".py",
   "mimetype": "text/x-python",
   "name": "python",
   "nbconvert_exporter": "python",
   "pygments_lexer": "ipython3",
   "version": "3.12.9"
  }
 },
 "nbformat": 4,
 "nbformat_minor": 2
}
